{
 "cells": [
  {
   "cell_type": "markdown",
   "metadata": {},
   "source": [
    "# Analyzing Population for Final Project CS 418\n",
    "# Plotting Population by Country for our 32 countries"
   ]
  },
  {
   "cell_type": "code",
   "execution_count": 8,
   "metadata": {},
   "outputs": [],
   "source": [
    "from IPython.core.interactiveshell import InteractiveShell\n",
    "InteractiveShell.ast_node_interactivity = \"all\"\n",
    "\n",
    "import numpy as np \n",
    "import pandas as pd\n",
    "from matplotlib import pyplot as plt"
   ]
  },
  {
   "cell_type": "code",
   "execution_count": 15,
   "metadata": {
    "scrolled": true
   },
   "outputs": [
    {
     "data": {
      "text/html": [
       "<div>\n",
       "<style scoped>\n",
       "    .dataframe tbody tr th:only-of-type {\n",
       "        vertical-align: middle;\n",
       "    }\n",
       "\n",
       "    .dataframe tbody tr th {\n",
       "        vertical-align: top;\n",
       "    }\n",
       "\n",
       "    .dataframe thead th {\n",
       "        text-align: right;\n",
       "    }\n",
       "</style>\n",
       "<table border=\"1\" class=\"dataframe\">\n",
       "  <thead>\n",
       "    <tr style=\"text-align: right;\">\n",
       "      <th></th>\n",
       "      <th>2000</th>\n",
       "      <th>2005</th>\n",
       "      <th>2010</th>\n",
       "      <th>2015</th>\n",
       "    </tr>\n",
       "    <tr>\n",
       "      <th>country</th>\n",
       "      <th></th>\n",
       "      <th></th>\n",
       "      <th></th>\n",
       "      <th></th>\n",
       "    </tr>\n",
       "  </thead>\n",
       "  <tbody>\n",
       "    <tr>\n",
       "      <td>Solomon Islands</td>\n",
       "      <td>434</td>\n",
       "      <td>496</td>\n",
       "      <td>560</td>\n",
       "      <td>623</td>\n",
       "    </tr>\n",
       "    <tr>\n",
       "      <td>Fiji</td>\n",
       "      <td>805</td>\n",
       "      <td>837</td>\n",
       "      <td>876</td>\n",
       "      <td>910</td>\n",
       "    </tr>\n",
       "    <tr>\n",
       "      <td>Albania</td>\n",
       "      <td>3159</td>\n",
       "      <td>3025</td>\n",
       "      <td>2987</td>\n",
       "      <td>3030</td>\n",
       "    </tr>\n",
       "    <tr>\n",
       "      <td>New Zealand</td>\n",
       "      <td>3803</td>\n",
       "      <td>4049</td>\n",
       "      <td>4253</td>\n",
       "      <td>4439</td>\n",
       "    </tr>\n",
       "    <tr>\n",
       "      <td>Burundi</td>\n",
       "      <td>6716</td>\n",
       "      <td>7789</td>\n",
       "      <td>9121</td>\n",
       "      <td>10743</td>\n",
       "    </tr>\n",
       "    <tr>\n",
       "      <td>Serbia</td>\n",
       "      <td>7605</td>\n",
       "      <td>7503</td>\n",
       "      <td>7345</td>\n",
       "      <td>7177</td>\n",
       "    </tr>\n",
       "    <tr>\n",
       "      <td>Haiti</td>\n",
       "      <td>8413</td>\n",
       "      <td>9205</td>\n",
       "      <td>9649</td>\n",
       "      <td>10111</td>\n",
       "    </tr>\n",
       "    <tr>\n",
       "      <td>Dominican Republic</td>\n",
       "      <td>8469</td>\n",
       "      <td>9165</td>\n",
       "      <td>9824</td>\n",
       "      <td>10479</td>\n",
       "    </tr>\n",
       "    <tr>\n",
       "      <td>Guatemala</td>\n",
       "      <td>11086</td>\n",
       "      <td>12183</td>\n",
       "      <td>13551</td>\n",
       "      <td>14919</td>\n",
       "    </tr>\n",
       "    <tr>\n",
       "      <td>Ecuador</td>\n",
       "      <td>12446</td>\n",
       "      <td>13663</td>\n",
       "      <td>14791</td>\n",
       "      <td>15869</td>\n",
       "    </tr>\n",
       "    <tr>\n",
       "      <td>Chile</td>\n",
       "      <td>15175</td>\n",
       "      <td>15980</td>\n",
       "      <td>16760</td>\n",
       "      <td>17509</td>\n",
       "    </tr>\n",
       "    <tr>\n",
       "      <td>Australia</td>\n",
       "      <td>19054</td>\n",
       "      <td>20233</td>\n",
       "      <td>21516</td>\n",
       "      <td>22752</td>\n",
       "    </tr>\n",
       "    <tr>\n",
       "      <td>Saudi Arabia</td>\n",
       "      <td>21312</td>\n",
       "      <td>23643</td>\n",
       "      <td>25732</td>\n",
       "      <td>27753</td>\n",
       "    </tr>\n",
       "    <tr>\n",
       "      <td>Uganda</td>\n",
       "      <td>22917</td>\n",
       "      <td>26917</td>\n",
       "      <td>31508</td>\n",
       "      <td>37102</td>\n",
       "    </tr>\n",
       "    <tr>\n",
       "      <td>Morocco</td>\n",
       "      <td>28114</td>\n",
       "      <td>29901</td>\n",
       "      <td>31628</td>\n",
       "      <td>33323</td>\n",
       "    </tr>\n",
       "    <tr>\n",
       "      <td>Kenya</td>\n",
       "      <td>30606</td>\n",
       "      <td>35247</td>\n",
       "      <td>40844</td>\n",
       "      <td>45926</td>\n",
       "    </tr>\n",
       "    <tr>\n",
       "      <td>Canada</td>\n",
       "      <td>31100</td>\n",
       "      <td>32387</td>\n",
       "      <td>33760</td>\n",
       "      <td>35100</td>\n",
       "    </tr>\n",
       "    <tr>\n",
       "      <td>Poland</td>\n",
       "      <td>38655</td>\n",
       "      <td>38557</td>\n",
       "      <td>38617</td>\n",
       "      <td>38563</td>\n",
       "    </tr>\n",
       "    <tr>\n",
       "      <td>Colombia</td>\n",
       "      <td>38911</td>\n",
       "      <td>41488</td>\n",
       "      <td>44206</td>\n",
       "      <td>46737</td>\n",
       "    </tr>\n",
       "    <tr>\n",
       "      <td>South Africa</td>\n",
       "      <td>44914</td>\n",
       "      <td>48105</td>\n",
       "      <td>51123</td>\n",
       "      <td>53676</td>\n",
       "    </tr>\n",
       "    <tr>\n",
       "      <td>Ukraine</td>\n",
       "      <td>49014</td>\n",
       "      <td>47003</td>\n",
       "      <td>45769</td>\n",
       "      <td>44430</td>\n",
       "    </tr>\n",
       "    <tr>\n",
       "      <td>Ethiopia</td>\n",
       "      <td>64366</td>\n",
       "      <td>74355</td>\n",
       "      <td>86043</td>\n",
       "      <td>99466</td>\n",
       "    </tr>\n",
       "    <tr>\n",
       "      <td>Philippines</td>\n",
       "      <td>76452</td>\n",
       "      <td>84965</td>\n",
       "      <td>93137</td>\n",
       "      <td>100999</td>\n",
       "    </tr>\n",
       "    <tr>\n",
       "      <td>Germany</td>\n",
       "      <td>82184</td>\n",
       "      <td>82440</td>\n",
       "      <td>81645</td>\n",
       "      <td>80855</td>\n",
       "    </tr>\n",
       "    <tr>\n",
       "      <td>Mexico</td>\n",
       "      <td>99776</td>\n",
       "      <td>106577</td>\n",
       "      <td>114062</td>\n",
       "      <td>121737</td>\n",
       "    </tr>\n",
       "    <tr>\n",
       "      <td>Nigeria</td>\n",
       "      <td>123946</td>\n",
       "      <td>141190</td>\n",
       "      <td>160342</td>\n",
       "      <td>181563</td>\n",
       "    </tr>\n",
       "    <tr>\n",
       "      <td>Bangladesh</td>\n",
       "      <td>132151</td>\n",
       "      <td>144139</td>\n",
       "      <td>156119</td>\n",
       "      <td>168958</td>\n",
       "    </tr>\n",
       "    <tr>\n",
       "      <td>Russia</td>\n",
       "      <td>147054</td>\n",
       "      <td>143320</td>\n",
       "      <td>142527</td>\n",
       "      <td>142424</td>\n",
       "    </tr>\n",
       "    <tr>\n",
       "      <td>Brazil</td>\n",
       "      <td>174316</td>\n",
       "      <td>186021</td>\n",
       "      <td>195835</td>\n",
       "      <td>204260</td>\n",
       "    </tr>\n",
       "    <tr>\n",
       "      <td>United States</td>\n",
       "      <td>282163</td>\n",
       "      <td>295517</td>\n",
       "      <td>309348</td>\n",
       "      <td>321369</td>\n",
       "    </tr>\n",
       "    <tr>\n",
       "      <td>India</td>\n",
       "      <td>1006301</td>\n",
       "      <td>1090974</td>\n",
       "      <td>1173109</td>\n",
       "      <td>1251696</td>\n",
       "    </tr>\n",
       "    <tr>\n",
       "      <td>China</td>\n",
       "      <td>1268302</td>\n",
       "      <td>1302285</td>\n",
       "      <td>1336681</td>\n",
       "      <td>1367486</td>\n",
       "    </tr>\n",
       "  </tbody>\n",
       "</table>\n",
       "</div>"
      ],
      "text/plain": [
       "                       2000     2005     2010     2015\n",
       "country                                               \n",
       "Solomon Islands         434      496      560      623\n",
       "Fiji                    805      837      876      910\n",
       "Albania                3159     3025     2987     3030\n",
       "New Zealand            3803     4049     4253     4439\n",
       "Burundi                6716     7789     9121    10743\n",
       "Serbia                 7605     7503     7345     7177\n",
       "Haiti                  8413     9205     9649    10111\n",
       "Dominican Republic     8469     9165     9824    10479\n",
       "Guatemala             11086    12183    13551    14919\n",
       "Ecuador               12446    13663    14791    15869\n",
       "Chile                 15175    15980    16760    17509\n",
       "Australia             19054    20233    21516    22752\n",
       "Saudi Arabia          21312    23643    25732    27753\n",
       "Uganda                22917    26917    31508    37102\n",
       "Morocco               28114    29901    31628    33323\n",
       "Kenya                 30606    35247    40844    45926\n",
       "Canada                31100    32387    33760    35100\n",
       "Poland                38655    38557    38617    38563\n",
       "Colombia              38911    41488    44206    46737\n",
       "South Africa          44914    48105    51123    53676\n",
       "Ukraine               49014    47003    45769    44430\n",
       "Ethiopia              64366    74355    86043    99466\n",
       "Philippines           76452    84965    93137   100999\n",
       "Germany               82184    82440    81645    80855\n",
       "Mexico                99776   106577   114062   121737\n",
       "Nigeria              123946   141190   160342   181563\n",
       "Bangladesh           132151   144139   156119   168958\n",
       "Russia               147054   143320   142527   142424\n",
       "Brazil               174316   186021   195835   204260\n",
       "United States        282163   295517   309348   321369\n",
       "India               1006301  1090974  1173109  1251696\n",
       "China               1268302  1302285  1336681  1367486"
      ]
     },
     "execution_count": 15,
     "metadata": {},
     "output_type": "execute_result"
    }
   ],
   "source": [
    "df = pd.read_csv('../datasets/CleanedPopulation/Clean_population.csv', index_col=0)\n",
    "df = df.sort_values(by=['2000', '2005', '2010', '2015'])\n",
    "df"
   ]
  },
  {
   "cell_type": "code",
   "execution_count": 33,
   "metadata": {},
   "outputs": [
    {
     "data": {
      "text/plain": [
       "<matplotlib.axes._subplots.AxesSubplot at 0x1d464b3f508>"
      ]
     },
     "execution_count": 33,
     "metadata": {},
     "output_type": "execute_result"
    },
    {
     "data": {
      "text/plain": [
       "<matplotlib.axes._subplots.AxesSubplot at 0x1d464b3f508>"
      ]
     },
     "execution_count": 33,
     "metadata": {},
     "output_type": "execute_result"
    },
    {
     "data": {
      "text/plain": [
       "<matplotlib.axes._subplots.AxesSubplot at 0x1d464b3f508>"
      ]
     },
     "execution_count": 33,
     "metadata": {},
     "output_type": "execute_result"
    },
    {
     "data": {
      "text/plain": [
       "<matplotlib.axes._subplots.AxesSubplot at 0x1d464b3f508>"
      ]
     },
     "execution_count": 33,
     "metadata": {},
     "output_type": "execute_result"
    },
    {
     "data": {
      "text/plain": [
       "Text(0.5, 1.0, 'Countries by Population')"
      ]
     },
     "execution_count": 33,
     "metadata": {},
     "output_type": "execute_result"
    },
    {
     "data": {
      "text/plain": [
       "Text(0.5, 0, 'country')"
      ]
     },
     "execution_count": 33,
     "metadata": {},
     "output_type": "execute_result"
    },
    {
     "data": {
      "text/plain": [
       "Text(0, 0.5, 'population')"
      ]
     },
     "execution_count": 33,
     "metadata": {},
     "output_type": "execute_result"
    },
    {
     "data": {
      "image/png": "[encoded data removed]",
      "text/plain": [
       "<Figure size 1152x576 with 1 Axes>"
      ]
     },
     "metadata": {
      "needs_background": "light"
     },
     "output_type": "display_data"
    }
   ],
   "source": [
    "_, ax = plt.subplots()\n",
    "df['2015'].plot(kind='bar', ax=ax, color='Orange',figsize=(16,8),legend=True)\n",
    "df['2010'].plot(kind='bar', ax=ax, color='DarkGreen',legend=True)\n",
    "df['2005'].plot(kind='bar', ax=ax, color='Red',legend=True)\n",
    "df['2000'].plot(kind='bar', ax=ax, color='DarkBlue',legend=True)\n",
    "plt.title('Countries by Population')\n",
    "plt.xlabel('country')\n",
    "plt.ylabel('population')\n",
    "plt.show();\n"
   ]
  },
  {
   "cell_type": "markdown",
   "metadata": {},
   "source": [
    "# This plot is same as above, but without the top 11 countries \n",
    "(To see the distribution of less populated countries)"
   ]
  },
  {
   "cell_type": "code",
   "execution_count": 34,
   "metadata": {},
   "outputs": [
    {
     "data": {
      "text/html": [
       "<div>\n",
       "<style scoped>\n",
       "    .dataframe tbody tr th:only-of-type {\n",
       "        vertical-align: middle;\n",
       "    }\n",
       "\n",
       "    .dataframe tbody tr th {\n",
       "        vertical-align: top;\n",
       "    }\n",
       "\n",
       "    .dataframe thead th {\n",
       "        text-align: right;\n",
       "    }\n",
       "</style>\n",
       "<table border=\"1\" class=\"dataframe\">\n",
       "  <thead>\n",
       "    <tr style=\"text-align: right;\">\n",
       "      <th></th>\n",
       "      <th>2000</th>\n",
       "      <th>2005</th>\n",
       "      <th>2010</th>\n",
       "      <th>2015</th>\n",
       "    </tr>\n",
       "    <tr>\n",
       "      <th>country</th>\n",
       "      <th></th>\n",
       "      <th></th>\n",
       "      <th></th>\n",
       "      <th></th>\n",
       "    </tr>\n",
       "  </thead>\n",
       "  <tbody>\n",
       "    <tr>\n",
       "      <td>Solomon Islands</td>\n",
       "      <td>434</td>\n",
       "      <td>496</td>\n",
       "      <td>560</td>\n",
       "      <td>623</td>\n",
       "    </tr>\n",
       "    <tr>\n",
       "      <td>Fiji</td>\n",
       "      <td>805</td>\n",
       "      <td>837</td>\n",
       "      <td>876</td>\n",
       "      <td>910</td>\n",
       "    </tr>\n",
       "    <tr>\n",
       "      <td>Albania</td>\n",
       "      <td>3159</td>\n",
       "      <td>3025</td>\n",
       "      <td>2987</td>\n",
       "      <td>3030</td>\n",
       "    </tr>\n",
       "    <tr>\n",
       "      <td>New Zealand</td>\n",
       "      <td>3803</td>\n",
       "      <td>4049</td>\n",
       "      <td>4253</td>\n",
       "      <td>4439</td>\n",
       "    </tr>\n",
       "    <tr>\n",
       "      <td>Burundi</td>\n",
       "      <td>6716</td>\n",
       "      <td>7789</td>\n",
       "      <td>9121</td>\n",
       "      <td>10743</td>\n",
       "    </tr>\n",
       "    <tr>\n",
       "      <td>Serbia</td>\n",
       "      <td>7605</td>\n",
       "      <td>7503</td>\n",
       "      <td>7345</td>\n",
       "      <td>7177</td>\n",
       "    </tr>\n",
       "    <tr>\n",
       "      <td>Haiti</td>\n",
       "      <td>8413</td>\n",
       "      <td>9205</td>\n",
       "      <td>9649</td>\n",
       "      <td>10111</td>\n",
       "    </tr>\n",
       "    <tr>\n",
       "      <td>Dominican Republic</td>\n",
       "      <td>8469</td>\n",
       "      <td>9165</td>\n",
       "      <td>9824</td>\n",
       "      <td>10479</td>\n",
       "    </tr>\n",
       "    <tr>\n",
       "      <td>Guatemala</td>\n",
       "      <td>11086</td>\n",
       "      <td>12183</td>\n",
       "      <td>13551</td>\n",
       "      <td>14919</td>\n",
       "    </tr>\n",
       "    <tr>\n",
       "      <td>Ecuador</td>\n",
       "      <td>12446</td>\n",
       "      <td>13663</td>\n",
       "      <td>14791</td>\n",
       "      <td>15869</td>\n",
       "    </tr>\n",
       "    <tr>\n",
       "      <td>Chile</td>\n",
       "      <td>15175</td>\n",
       "      <td>15980</td>\n",
       "      <td>16760</td>\n",
       "      <td>17509</td>\n",
       "    </tr>\n",
       "    <tr>\n",
       "      <td>Australia</td>\n",
       "      <td>19054</td>\n",
       "      <td>20233</td>\n",
       "      <td>21516</td>\n",
       "      <td>22752</td>\n",
       "    </tr>\n",
       "    <tr>\n",
       "      <td>Saudi Arabia</td>\n",
       "      <td>21312</td>\n",
       "      <td>23643</td>\n",
       "      <td>25732</td>\n",
       "      <td>27753</td>\n",
       "    </tr>\n",
       "    <tr>\n",
       "      <td>Uganda</td>\n",
       "      <td>22917</td>\n",
       "      <td>26917</td>\n",
       "      <td>31508</td>\n",
       "      <td>37102</td>\n",
       "    </tr>\n",
       "    <tr>\n",
       "      <td>Morocco</td>\n",
       "      <td>28114</td>\n",
       "      <td>29901</td>\n",
       "      <td>31628</td>\n",
       "      <td>33323</td>\n",
       "    </tr>\n",
       "    <tr>\n",
       "      <td>Kenya</td>\n",
       "      <td>30606</td>\n",
       "      <td>35247</td>\n",
       "      <td>40844</td>\n",
       "      <td>45926</td>\n",
       "    </tr>\n",
       "    <tr>\n",
       "      <td>Canada</td>\n",
       "      <td>31100</td>\n",
       "      <td>32387</td>\n",
       "      <td>33760</td>\n",
       "      <td>35100</td>\n",
       "    </tr>\n",
       "    <tr>\n",
       "      <td>Poland</td>\n",
       "      <td>38655</td>\n",
       "      <td>38557</td>\n",
       "      <td>38617</td>\n",
       "      <td>38563</td>\n",
       "    </tr>\n",
       "    <tr>\n",
       "      <td>Colombia</td>\n",
       "      <td>38911</td>\n",
       "      <td>41488</td>\n",
       "      <td>44206</td>\n",
       "      <td>46737</td>\n",
       "    </tr>\n",
       "    <tr>\n",
       "      <td>South Africa</td>\n",
       "      <td>44914</td>\n",
       "      <td>48105</td>\n",
       "      <td>51123</td>\n",
       "      <td>53676</td>\n",
       "    </tr>\n",
       "    <tr>\n",
       "      <td>Ukraine</td>\n",
       "      <td>49014</td>\n",
       "      <td>47003</td>\n",
       "      <td>45769</td>\n",
       "      <td>44430</td>\n",
       "    </tr>\n",
       "  </tbody>\n",
       "</table>\n",
       "</div>"
      ],
      "text/plain": [
       "                     2000   2005   2010   2015\n",
       "country                                       \n",
       "Solomon Islands       434    496    560    623\n",
       "Fiji                  805    837    876    910\n",
       "Albania              3159   3025   2987   3030\n",
       "New Zealand          3803   4049   4253   4439\n",
       "Burundi              6716   7789   9121  10743\n",
       "Serbia               7605   7503   7345   7177\n",
       "Haiti                8413   9205   9649  10111\n",
       "Dominican Republic   8469   9165   9824  10479\n",
       "Guatemala           11086  12183  13551  14919\n",
       "Ecuador             12446  13663  14791  15869\n",
       "Chile               15175  15980  16760  17509\n",
       "Australia           19054  20233  21516  22752\n",
       "Saudi Arabia        21312  23643  25732  27753\n",
       "Uganda              22917  26917  31508  37102\n",
       "Morocco             28114  29901  31628  33323\n",
       "Kenya               30606  35247  40844  45926\n",
       "Canada              31100  32387  33760  35100\n",
       "Poland              38655  38557  38617  38563\n",
       "Colombia            38911  41488  44206  46737\n",
       "South Africa        44914  48105  51123  53676\n",
       "Ukraine             49014  47003  45769  44430"
      ]
     },
     "execution_count": 34,
     "metadata": {},
     "output_type": "execute_result"
    }
   ],
   "source": [
    "low_df = df.iloc[:-11,:]\n",
    "low_df"
   ]
  },
  {
   "cell_type": "code",
   "execution_count": 32,
   "metadata": {},
   "outputs": [
    {
     "data": {
      "text/plain": [
       "<matplotlib.axes._subplots.AxesSubplot at 0x1d464765408>"
      ]
     },
     "execution_count": 32,
     "metadata": {},
     "output_type": "execute_result"
    },
    {
     "data": {
      "text/plain": [
       "<matplotlib.axes._subplots.AxesSubplot at 0x1d464765408>"
      ]
     },
     "execution_count": 32,
     "metadata": {},
     "output_type": "execute_result"
    },
    {
     "data": {
      "text/plain": [
       "<matplotlib.axes._subplots.AxesSubplot at 0x1d464765408>"
      ]
     },
     "execution_count": 32,
     "metadata": {},
     "output_type": "execute_result"
    },
    {
     "data": {
      "text/plain": [
       "<matplotlib.axes._subplots.AxesSubplot at 0x1d464765408>"
      ]
     },
     "execution_count": 32,
     "metadata": {},
     "output_type": "execute_result"
    },
    {
     "data": {
      "text/plain": [
       "Text(0.5, 1.0, 'Countries by Population')"
      ]
     },
     "execution_count": 32,
     "metadata": {},
     "output_type": "execute_result"
    },
    {
     "data": {
      "text/plain": [
       "Text(0.5, 0, 'country')"
      ]
     },
     "execution_count": 32,
     "metadata": {},
     "output_type": "execute_result"
    },
    {
     "data": {
      "text/plain": [
       "Text(0, 0.5, 'population')"
      ]
     },
     "execution_count": 32,
     "metadata": {},
     "output_type": "execute_result"
    },
    {
     "data": {
      "image/png": "[encoded data removed]",
      "text/plain": [
       "<Figure size 1152x576 with 1 Axes>"
      ]
     },
     "metadata": {
      "needs_background": "light"
     },
     "output_type": "display_data"
    }
   ],
   "source": [
    "_, ax = plt.subplots()\n",
    "low_df['2015'].plot(kind='bar', ax=ax, color='Orange',figsize=(16,8),legend=True)\n",
    "low_df['2010'].plot(kind='bar', ax=ax, color='DarkGreen',legend=True)\n",
    "low_df['2005'].plot(kind='bar', ax=ax, color='Red',legend=True)\n",
    "low_df['2000'].plot(kind='bar', ax=ax, color='DarkBlue',legend=True)\n",
    "plt.title('Countries by Population')\n",
    "plt.xlabel('country')\n",
    "plt.ylabel('population')"
   ]
  }
 ],
 "metadata": {
  "kernelspec": {
   "display_name": "Python 3",
   "language": "python",
   "name": "python3"
  },
  "language_info": {
   "codemirror_mode": {
    "name": "ipython",
    "version": 3
   },
   "file_extension": ".py",
   "mimetype": "text/x-python",
   "name": "python",
   "nbconvert_exporter": "python",
   "pygments_lexer": "ipython3",
   "version": "3.7.4"
  }
 },
 "nbformat": 4,
 "nbformat_minor": 2
}