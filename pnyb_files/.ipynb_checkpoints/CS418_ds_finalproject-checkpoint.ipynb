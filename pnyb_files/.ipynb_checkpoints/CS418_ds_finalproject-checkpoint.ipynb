{
 "cells": [
  {
   "cell_type": "code",
   "execution_count": null,
   "metadata": {},
   "outputs": [],
   "source": [
    "from IPython.core.interactiveshell import InteractiveShell\n",
    "InteractiveShell.ast_node_interactivity = \"all\"\n",
    "\n",
    "import numpy as np \n",
    "import pandas as pd\n",
    "from matplotlib import pyplot as plt\n",
    "import seaborn as sn"
   ]
  },
  {
   "cell_type": "markdown",
   "metadata": {},
   "source": [
    "## CS418 Data Science Final Project\n",
    "\n",
    "### Names: Abhi Shah, Brian De Villa,  Katherine Misyutina, Matthew Jankowski\n",
    "\n",
    "#### Dataset Topic:\n",
    "Child Mortality for children under the age of 5. Compare different countries and diseases. Show differences between developed and developing countries.\n",
    "\n",
    "#### Criteria:\n",
    "In early April (exact date to be announced) you must submit your progress report. Your progress report must contain the following:\n",
    "\n",
    "    1)An introduction part to your data:\n",
    "        * Data spec: describe your data. Include the format and any assumptions about your data, size of the dataset\n",
    "        * A link to your full data in downloadable form, you can keep your data on Google Drive, Box, DropBox, GitHub, or personal website\n",
    "        * A sample of your data ( n = 10 - 50)\n",
    "        * A report of your data collection process\n",
    "            * How did you collect your data\n",
    "            * How did you clean your data\n",
    "            * Mention any difficulties you faced in the beginning steps\n",
    "2) A summary of challenges and observations you have made so far. \n",
    "A brief mention of your next steps and what you plan to do with your data as you move into the analysis (If you are already in the analysis phase you can mention that as well)\n",
    "Group member duties\n",
    "\n",
    "\n",
    "\n"
   ]
  },
  {
   "cell_type": "markdown",
   "metadata": {},
   "source": [
    "<h1> Loading Cleaned Data </h2>\n",
    "Load in all the data was cleaned"
   ]
  },
  {
   "cell_type": "code",
   "execution_count": null,
   "metadata": {},
   "outputs": [],
   "source": [
    "dfPopulation = pd.read_csv('../datasets/CleanedPopulation/Clean_population.csv')\n",
    "dfPopulation2 = pd.read_csv('../datasets/CleanedPopulation/Clean_population.csv', index_col=0)\n",
    "dfAcute_Lower_Respiratory_infections = pd.read_csv('../datasets/CleanedDiseases/CleanedAcute_Lower_Respiratory_infections.csv')\n",
    "dfInjuries = pd.read_csv('../datasets/CleanedDiseases/CleanedInjuries.csv')\n",
    "dfMeasles_mortality = pd.read_csv('../datasets/CleanedDiseases/Cleanedmeasles_mortality.csv')\n",
    "dfPrematurity = pd.read_csv('../datasets/CleanedDiseases/CleanedPrematurity.csv')\n",
    "dfSepsis = pd.read_csv('../datasets/CleanedDiseases/CleanedSepsis.csv')\n",
    "dfGDP = pd.read_csv('../datasets/CleanedGDP/Clean_gdp2.csv', index_col=0)\n",
    "dfGDP2 = pd.read_csv('../datasets/CleanedGDP/Clean_gdp2.csv')"
   ]
  },
  {
   "cell_type": "markdown",
   "metadata": {},
   "source": [
    "<h1> Calculations </h1>\n",
    "Gets the percent of the diseased children over the total population of the country during that year.\n",
    "It also gets the difference of GDP from 2000 to 2015."
   ]
  },
  {
   "cell_type": "code",
   "execution_count": null,
   "metadata": {},
   "outputs": [],
   "source": [
    "#calculates the percent of diseases over the total population for each country in each year\n",
    "acute_lower_respiratory_infection_percentage = (dfAcute_Lower_Respiratory_infections.iloc[:, 1:5]/(dfPopulation.iloc[:,1:5] * 1000)) * 100\n",
    "injuries_percentage = (dfInjuries.iloc[:, 1:5]/(dfPopulation.iloc[:,1:5] * 1000)) * 100\n",
    "measles_mortality_percentage = (dfMeasles_mortality.iloc[:, 1:5]/(dfPopulation.iloc[:,1:5] * 1000)) * 100\n",
    "prematurity_percentage = (dfPrematurity.iloc[:, 1:5]/(dfPopulation.iloc[:,1:5] * 1000)) * 100\n",
    "sepsis_percentage = (dfSepsis.iloc[:, 1:5]/(dfPopulation.iloc[:, 1:5] * 1000)) * 100\n",
    "gdp_difference_percentage = (dfGDP['2015']/dfGDP['2000']) * 100"
   ]
  },
  {
   "cell_type": "markdown",
   "metadata": {},
   "source": [
    "<h1> Functions to help with plotting </h1>\n",
    "In here there will be 2 functions. One to create the percentages dataframe and another to sort the percentages.\n",
    "These functions will help later on to plot in the way we want to plot."
   ]
  },
  {
   "cell_type": "code",
   "execution_count": null,
   "metadata": {},
   "outputs": [],
   "source": [
    "#makes some empty dataframes to be used\n",
    "dfAcute_percentage = pd.DataFrame(columns =['Countries', '2000', '2005', '2010', '2015'])\n",
    "dfInjuries_percentage = pd.DataFrame(columns =['Countries', '2000', '2005', '2010', '2015'])\n",
    "dfMeasles_percentage = pd.DataFrame(columns =['Countries', '2000', '2005', '2010', '2015'])\n",
    "dfPrematurity_percentage = pd.DataFrame(columns =['Countries', '2000', '2005', '2010', '2015'])\n",
    "dfSepsis_percentage = pd.DataFrame(columns =['Countries', '2000', '2005', '2010', '2015'])\n",
    "dfGDP_difference_percentage = pd.DataFrame(columns = ['GDP 2015/2000'])\n",
    "#creates a dataset that combines both countries name and newly made percentages\n",
    "def createPercentageDataframe(tempDF, percentageDF, countriesDataFrame):\n",
    "\n",
    "    tempDF['Countries'] = countriesDataFrame\n",
    "    for year in percentageDF:\n",
    "        tempDF[year] = percentageDF[str(year)]\n",
    "    \n",
    "createPercentageDataframe(dfAcute_percentage, acute_lower_respiratory_infection_percentage, dfAcute_Lower_Respiratory_infections.iloc[:, 0])\n",
    "createPercentageDataframe(dfInjuries_percentage, injuries_percentage, dfAcute_Lower_Respiratory_infections.iloc[:, 0])\n",
    "createPercentageDataframe(dfMeasles_percentage, measles_mortality_percentage, dfAcute_Lower_Respiratory_infections.iloc[:, 0])\n",
    "createPercentageDataframe(dfPrematurity_percentage, prematurity_percentage, dfAcute_Lower_Respiratory_infections.iloc[:, 0])\n",
    "createPercentageDataframe(dfSepsis_percentage, sepsis_percentage, dfAcute_Lower_Respiratory_infections.iloc[:, 0])\n",
    "dfGDP_difference_percentage['GDP 2015/2000'] = gdp_difference_percentage\n",
    "#sorts the created diseases percentage countries names and population dataset countries names in the same way\n",
    "#so when we plot all indexes line up.\n",
    "def sortingByPercentage(percentageDataF, dfPopulation):\n",
    "    percentageDataF = percentageDataF.sort_values(by=['2000','2005','2010','2015'])\n",
    "    dfPopulation['country'] = pd.Categorical(dfPopulation['country'], percentageDataF['Countries'])\n",
    "    dfPopulation = dfPopulation.sort_values('country')\n",
    "    \n",
    "    return percentageDataF, dfPopulation"
   ]
  },
  {
   "cell_type": "markdown",
   "metadata": {},
   "source": [
    "<h1> Create Population Graph </h1>\n",
    "Creates a population bar graph for each country"
   ]
  },
  {
   "cell_type": "code",
   "execution_count": null,
   "metadata": {},
   "outputs": [],
   "source": [
    "dfPopulation2 = dfPopulation2.sort_values(by=['2000', '2005', '2010', '2015'])\n",
    "_, ax = plt.subplots()\n",
    "dfPopulation2['2015'].plot(kind='bar', ax=ax, color='Orange',figsize=(16,8),legend=True)\n",
    "dfPopulation2['2010'].plot(kind='bar', ax=ax, color='DarkGreen',legend=True)\n",
    "dfPopulation2['2005'].plot(kind='bar', ax=ax, color='Red',legend=True)\n",
    "dfPopulation2['2000'].plot(kind='bar', ax=ax, color='DarkBlue',legend=True)\n",
    "plt.title('Countries by Population')\n",
    "plt.xlabel('country')\n",
    "plt.ylabel('population')\n",
    "plt.show();"
   ]
  },
  {
   "cell_type": "markdown",
   "metadata": {},
   "source": [
    "<h1> Create GDP graph </h1>\n",
    "Creates a gdp bar graph for each country for the given country(2000, 2005, 2010, 2015)"
   ]
  },
  {
   "cell_type": "code",
   "execution_count": null,
   "metadata": {},
   "outputs": [],
   "source": [
    "dfGDP = dfGDP.sort_values(by=['2015','2010','2005','2000'])\n",
    "_, ax = plt.subplots()\n",
    "dfGDP['2015'].plot(kind='bar', ax=ax, color='Orange',figsize=(16,8),legend=True)\n",
    "dfGDP['2010'].plot(kind='bar', ax=ax, color='DarkGreen',legend=True)\n",
    "dfGDP['2005'].plot(kind='bar', ax=ax, color='Red',legend=True)\n",
    "dfGDP['2000'].plot(kind='bar', ax=ax, color='DarkBlue',legend=True)\n",
    "plt.title(\"GDP per Capita Over 15 Years\")\n",
    "plt.xlabel(\"\")\n",
    "plt.ylabel(\"Dollars\")\n",
    "plt.show();"
   ]
  },
  {
   "cell_type": "markdown",
   "metadata": {},
   "source": [
    "<h1> Create Disease Graphs </h1>\n",
    "Creates graphs for each of the diseases per country during the years choosen(2000, 2005, 2010, 2015)\n"
   ]
  },
  {
   "cell_type": "code",
   "execution_count": null,
   "metadata": {},
   "outputs": [],
   "source": [
    "plt.figure(1, figsize = (15,8))\n",
    "dfAcute_percentage, dfPopulation = sortingByPercentage(dfAcute_percentage, dfPopulation)\n",
    "plt.bar(dfPopulation.iloc[:, 0], dfAcute_percentage.iloc[:, 1])\n",
    "plt.bar(dfPopulation.iloc[:, 0], dfAcute_percentage.iloc[:, 2])\n",
    "plt.bar(dfPopulation.iloc[:, 0], dfAcute_percentage.iloc[:, 3])\n",
    "plt.bar(dfPopulation.iloc[:, 0], dfAcute_percentage.iloc[:, 4])\n",
    "plt.title(\"Acute Lower Respiratory Infection\")\n",
    "plt.xticks(rotation = 90)\n",
    "plt.ylabel(\"Acute Lower Respiratory Infection Percentage\")\n",
    "plt.legend([\"2000\", \"2005\", \"2010\",\"2015\"])\n",
    "plt.tick_params(axis = 'x', labelsize =12)\n",
    "plt.tight_layout()\n",
    "plt.show();"
   ]
  },
  {
   "cell_type": "code",
   "execution_count": null,
   "metadata": {},
   "outputs": [],
   "source": [
    "plt.figure(2, figsize = (15,8))\n",
    "dfInjuries_percentage, dfPopulation = sortingByPercentage(dfInjuries_percentage, dfPopulation)\n",
    "plt.bar(dfPopulation.iloc[:, 0], dfInjuries_percentage.iloc[:, 1])\n",
    "plt.bar(dfPopulation.iloc[:, 0], dfInjuries_percentage.iloc[:, 2])\n",
    "plt.bar(dfPopulation.iloc[:, 0], dfInjuries_percentage.iloc[:, 3])\n",
    "plt.bar(dfPopulation.iloc[:, 0], dfInjuries_percentage.iloc[:, 4])\n",
    "plt.title(\"Death by Injuries\")\n",
    "plt.xticks(rotation = 90)\n",
    "plt.ylabel(\"Death percentage by Injuries\")\n",
    "plt.ylim(0, .05)\n",
    "plt.legend([\"2000\", \"2005\", \"2010\",\"2015\"])\n",
    "plt.tick_params(axis = 'x', labelsize =12)\n",
    "plt.tight_layout()\n",
    "plt.text(\"Haiti\", .04, \"Haiti actually has a .37\", horizontalalignment='left')\n",
    "plt.show();"
   ]
  },
  {
   "cell_type": "code",
   "execution_count": null,
   "metadata": {},
   "outputs": [],
   "source": [
    "plt.figure(3, figsize = (15,8))\n",
    "dfMeasles_percentage, dfPopulation = sortingByPercentage(dfMeasles_percentage, dfPopulation)\n",
    "plt.bar(dfPopulation.iloc[:, 0], dfMeasles_percentage.iloc[:, 1])\n",
    "plt.bar(dfPopulation.iloc[:, 0], dfMeasles_percentage.iloc[:, 2])\n",
    "plt.bar(dfPopulation.iloc[:, 0], dfMeasles_percentage.iloc[:, 3])\n",
    "plt.bar(dfPopulation.iloc[:, 0], dfMeasles_percentage.iloc[:, 4])\n",
    "plt.title(\"Death by Measles\")\n",
    "plt.xticks(rotation = 90)\n",
    "plt.ylabel(\"Death percentage by Measles\")\n",
    "plt.legend([\"2000\", \"2005\", \"2010\",\"2015\"])\n",
    "plt.tick_params(axis = 'x', labelsize =12)\n",
    "plt.tight_layout()\n",
    "plt.show();"
   ]
  },
  {
   "cell_type": "code",
   "execution_count": null,
   "metadata": {},
   "outputs": [],
   "source": [
    "plt.figure(4, figsize = (15,8))\n",
    "dfPrematurity_percentage, dfPopulation = sortingByPercentage(dfPrematurity_percentage, dfPopulation)\n",
    "plt.bar(dfPopulation.iloc[:, 0], dfPrematurity_percentage.iloc[:, 1])\n",
    "plt.bar(dfPopulation.iloc[:, 0], dfPrematurity_percentage.iloc[:, 2])\n",
    "plt.bar(dfPopulation.iloc[:, 0], dfPrematurity_percentage.iloc[:, 3])\n",
    "plt.bar(dfPopulation.iloc[:, 0], dfPrematurity_percentage.iloc[:, 4])\n",
    "plt.title(\"Death by Prematurity\")\n",
    "plt.xticks(rotation = 90)\n",
    "plt.ylabel(\"Death percentage by Prematurity\")\n",
    "plt.legend([\"2000\", \"2005\", \"2010\",\"2015\"])\n",
    "plt.tick_params(axis = 'x', labelsize =12)\n",
    "plt.tight_layout()\n",
    "plt.show();"
   ]
  },
  {
   "cell_type": "code",
   "execution_count": null,
   "metadata": {},
   "outputs": [],
   "source": [
    "plt.figure(5, figsize = (15,8))\n",
    "dfSepsis_percentage, dfPopulation = sortingByPercentage(dfSepsis_percentage, dfPopulation)\n",
    "plt.bar(dfPopulation.iloc[:, 0], dfSepsis_percentage.iloc[:, 1])\n",
    "plt.bar(dfPopulation.iloc[:, 0], dfSepsis_percentage.iloc[:, 2])\n",
    "plt.bar(dfPopulation.iloc[:, 0], dfSepsis_percentage.iloc[:, 3])\n",
    "plt.bar(dfPopulation.iloc[:, 0], dfSepsis_percentage.iloc[:, 4])\n",
    "plt.title(\"Death by Sepsis\")\n",
    "plt.xticks(rotation = 90)\n",
    "plt.ylabel(\"Death percentage by Sepsis\")\n",
    "plt.legend([\"2000\", \"2005\", \"2010\",\"2015\"])\n",
    "plt.tick_params(axis = 'x', labelsize =12)\n",
    "plt.tight_layout()\n",
    "plt.show();"
   ]
  },
  {
   "cell_type": "markdown",
   "metadata": {},
   "source": [
    "<h1> GDP Increase 2000-2015 </h1>\n",
    "This shows the gdp difference from 2000 to 2015"
   ]
  },
  {
   "cell_type": "code",
   "execution_count": null,
   "metadata": {},
   "outputs": [],
   "source": [
    "dfGDP_difference_percentage = dfGDP_difference_percentage.sort_values(by=['GDP 2015/2000'])\n",
    "_, ax = plt.subplots()\n",
    "dfGDP_difference_percentage['GDP 2015/2000'].plot(kind='bar', ax=ax, color='darkgreen',figsize=(16,8),legend=True)\n",
    "plt.title(\"% GDP Increase from 2000 to 2015\")\n",
    "plt.xlabel(\"\")\n",
    "plt.ylabel(\"Percentage\")\n",
    "plt.show();\n"
   ]
  },
  {
   "cell_type": "markdown",
   "metadata": {},
   "source": [
    "<h1> Merge datasets </h1>\n",
    "This section merges the datasets into the format we want to do some calculations on it"
   ]
  },
  {
   "cell_type": "code",
   "execution_count": null,
   "metadata": {},
   "outputs": [],
   "source": [
    "merged2015 = pd.DataFrame()\n",
    "merged2010 = pd.DataFrame()\n",
    "merged2005 = pd.DataFrame()\n",
    "merged2000 = pd.DataFrame()\n",
    "#If year == 2015, indexOfYear = 4\n",
    "#If year == 2010, indexOfYear = 3\n",
    "#If year == 2005, indexOfyear = 2\n",
    "#If year == 2000, indexOfyear = 1\n",
    "#function that merges the year wanted and gdp into one dataframe\n",
    "def dfGdpAndDisease(year, popYear, gdpYear, acuteYear, injuriesYear, measlesYear, prematurityYear, sepsisYear, indexOfYear, merged):\n",
    "    #reads in only the year column we want\n",
    "    popYear = popYear.iloc[:,[0,indexOfYear]]\n",
    "    gdpYear = gdpYear.iloc[:,[0,indexOfYear]]\n",
    "    acuteYear = acuteYear.iloc[:, [0,indexOfYear]]\n",
    "    injuriesYear = injuriesYear.iloc[:,[0,indexOfYear]]\n",
    "    measlesYear = measlesYear.iloc[:,[0, indexOfYear]]\n",
    "    prematurityYear = prematurityYear.iloc[:,[0, indexOfYear]]\n",
    "    sepsisYear = sepsisYear.iloc[:,[0, indexOfYear]]\n",
    "\n",
    "    #then renames the columns inside of it\n",
    "    popYear = popYear.rename(columns={year : 'population (K)'}) #, inplace=True)\n",
    "    gdpYear = gdpYear.rename(columns={'Country' : 'country', year : 'GDP'}) # , inplace=True)\n",
    "    gdpYear.GDP = gdpYear.GDP.astype(int)\n",
    "    acuteYear = acuteYear.rename(columns={'Countries' : 'country', year : 'acute_deaths'}) # , inplace=True)\n",
    "    injuriesYear = injuriesYear.rename(columns={'Countries' : 'country', year : 'injuries_deaths'}) #, inplace=True)\n",
    "    measlesYear = measlesYear.rename(columns={'Countries' : 'country', year : 'measles_deaths'}) #, inplace=True)\n",
    "    prematurityYear = prematurityYear.rename(columns={'Countries' : 'country', year :'prematurity_deaths'}) #, inplace=True)\n",
    "    sepsisYear = sepsisYear.rename(columns={'Countries' : 'country', year : 'sepsis_deaths'}) #, inplace=True)\n",
    "\n",
    "    #merge them into one dataset\n",
    "    merged = pd.merge(popYear, gdpYear, on='country', how='inner')\n",
    "    merged = pd.merge(merged, acuteYear, on='country', how='inner')\n",
    "    merged = pd.merge(merged, injuriesYear, on='country', how='inner')\n",
    "    merged = pd.merge(merged, measlesYear, on='country', how='inner')\n",
    "    merged = pd.merge(merged, prematurityYear, on='country', how='inner')\n",
    "    merged = pd.merge(merged, sepsisYear, on='country', how='inner')\n",
    "\n",
    "    return merged\n",
    "\n",
    "merged2015 = dfGdpAndDisease('2015', dfPopulation, dfGDP2, dfAcute_Lower_Respiratory_infections, dfInjuries, dfMeasles_mortality, dfPrematurity, dfSepsis, 4, merged2015)\n",
    "merged2010 = dfGdpAndDisease('2010', dfPopulation, dfGDP2, dfAcute_Lower_Respiratory_infections, dfInjuries, dfMeasles_mortality, dfPrematurity, dfSepsis, 3, merged2010)\n",
    "merged2005 = dfGdpAndDisease('2005', dfPopulation, dfGDP2, dfAcute_Lower_Respiratory_infections, dfInjuries, dfMeasles_mortality, dfPrematurity, dfSepsis, 2, merged2010)\n",
    "merged2000 = dfGdpAndDisease('2000', dfPopulation, dfGDP2, dfAcute_Lower_Respiratory_infections, dfInjuries, dfMeasles_mortality, dfPrematurity, dfSepsis, 1, merged2000)\n"
   ]
  },
  {
   "cell_type": "markdown",
   "metadata": {},
   "source": [
    "<h1> Calculate the Death per Million </h1>\n",
    "This section does calculations based on the dataset that was gotten from above"
   ]
  },
  {
   "cell_type": "code",
   "execution_count": null,
   "metadata": {},
   "outputs": [],
   "source": [
    "#calculations for death per million of total population\n",
    "def deathPerMillion(mergedYear):\n",
    "    #divide by population to get real feel of disease badness\n",
    "    mergedYear['acute_deaths']    = mergedYear['acute_deaths'] / (mergedYear['population (K)']/1000)  #deaths per million of total population\n",
    "    mergedYear['injuries_deaths'] = mergedYear['injuries_deaths'] / (mergedYear['population (K)']/1000) \n",
    "    mergedYear['measles_deaths']  = mergedYear['measles_deaths'] / (mergedYear['population (K)']/1000) \n",
    "    mergedYear['prematurity_deaths'] = mergedYear['prematurity_deaths'] / (mergedYear['population (K)']/1000) \n",
    "    mergedYear['sepsis_deaths']   = mergedYear['sepsis_deaths'] / (mergedYear['population (K)']/1000) \n",
    "\n",
    "    #sort by GDP\n",
    "    mergedYear = mergedYear.sort_values(by=['GDP'])\n",
    "\n",
    "    #multiply GDP by a factor to show proportion\n",
    "    mergedYear['GDP'] = mergedYear['GDP'] / 120\n",
    "\n",
    "    return mergedYear\n",
    "\n",
    "merged2015 = deathPerMillion(merged2015)\n",
    "merged2010 = deathPerMillion(merged2010)\n",
    "merged2005 = deathPerMillion(merged2005)\n",
    "merged2000 = deathPerMillion(merged2000)\n",
    "\n",
    "#sorts xaxis to be the same as 2015 to be able to keep it consistent\n",
    "def sortXaxis(exampleXaxisDF, changingxAxisDF):\n",
    "    changingxAxisDF['country'] = pd.Categorical(changingxAxisDF['country'], exampleXaxisDF['country'])\n",
    "    changingxAxisDF = changingxAxisDF.sort_values('country')\n",
    "\n",
    "    return changingxAxisDF\n",
    "\n",
    "merged2010 = sortXaxis(merged2015, merged2010)\n",
    "merged2005 = sortXaxis(merged2015, merged2005)\n",
    "merged2000 = sortXaxis(merged2015, merged2000)\n",
    "\n"
   ]
  },
  {
   "cell_type": "markdown",
   "metadata": {},
   "source": [
    "<h1> GDP vs Diseases </h1>\n",
    "This section will focus on making a correlation between GDP and the diseases through a scatter plot.\n",
    "Hopefully by graphing this it will be easier to answer our questions and hypothesis. "
   ]
  },
  {
   "cell_type": "code",
   "execution_count": null,
   "metadata": {
    "scrolled": false
   },
   "outputs": [],
   "source": [
    "\n",
    "\n",
    "#plot to show GDPvsDisease\n",
    "def plotGDPvsDisease(mergedYear,counter, year):\n",
    "    plt.figure(counter, figsize=(16,8))\n",
    "    plt.plot('country', 'GDP', data=mergedYear, color='darkblue', linewidth=2, label=\"GDP\")\n",
    "    plt.scatter('country', 'prematurity_deaths', data=mergedYear, color='gold', linewidth=2, label=\"prematurity\")\n",
    "    plt.scatter('country', 'injuries_deaths', data=mergedYear, color='orange', linewidth=2, label=\"injury\")\n",
    "    plt.scatter('country', 'acute_deaths', data=mergedYear, color='darkgreen', linewidth=2, label=\"acute respiratory infection\")\n",
    "    plt.scatter('country', 'sepsis_deaths', data=mergedYear, color='blue', linewidth=2, label=\"sepsis\")\n",
    "    plt.scatter('country', 'measles_deaths', data=mergedYear, color='darkred', linewidth=2, label=\"measles\")\n",
    "    plt.title(\"GDP vs Disease for \" + year)\n",
    "    plt.xlabel('country')\n",
    "    plt.ylabel('number of deaths per million people')\n",
    "    plt.legend(loc='center')\n",
    "    plt.grid(linestyle='-', linewidth='0.5', color='lightgray')\n",
    "    plt.xticks(rotation = 90)\n",
    "    plt.legend(loc = \"upper center\")\n",
    "    plt.ylim(0,500)\n",
    "    plt.show();\n",
    "\n",
    "plotGDPvsDisease(merged2015, 1, '2015');\n",
    "plotGDPvsDisease(merged2010, 2, '2010');\n",
    "plotGDPvsDisease(merged2005, 3, '2005');\n",
    "plotGDPvsDisease(merged2000, 4, '2000');\n"
   ]
  },
  {
   "cell_type": "markdown",
   "metadata": {},
   "source": [
    "<h1> Correlation Matrix </h1>\n",
    "A correlation matrix that shows the relation of all the data we have gathered."
   ]
  },
  {
   "cell_type": "code",
   "execution_count": null,
   "metadata": {
    "scrolled": false
   },
   "outputs": [],
   "source": [
    "\n",
    "def adjustGDP(mergedDataset):\n",
    "\n",
    "    corrMerged = mergedDataset\n",
    "    corrMerged['GDP'] = mergedDataset['GDP'] * 0.1\n",
    "    return corrMerged\n",
    "    \n",
    "corrMerged2015 = adjustGDP(merged2015)\n",
    "corrMerged2010 = adjustGDP(merged2010)\n",
    "corrMerged2005 = adjustGDP(merged2005)\n",
    "corrMerged2000 = adjustGDP(merged2000)\n",
    "\n",
    "def createCorrelationMatrix(adjustedDataset):\n",
    "    \n",
    "    corrMatrix = adjustedDataset.corr()\n",
    "    corrMatrix = corrMatrix.round(1)\n",
    "    return corrMatrix\n",
    "\n",
    "corrMatrix2015 = createCorrelationMatrix(corrMerged2015)\n",
    "corrMatrix2010 = createCorrelationMatrix(corrMerged2010)\n",
    "corrMatrix2005 = createCorrelationMatrix(corrMerged2005)\n",
    "corrMatrix2000 = createCorrelationMatrix(corrMerged2000)\n",
    "\n",
    "def plotCorrelationMatrix(corrleationDataset, year, counter):\n",
    "    plt.figure(counter, figsize=(8,6))\n",
    "    plt.title(year)\n",
    "    sn.heatmap(corrleationDataset, annot=True, vmin=-1, vmax=1, xticklabels=1, yticklabels=False, square=True)\n",
    "    plt.show();\n",
    "\n",
    "plotCorrelationMatrix(corrMatrix2015, '2015', 1)\n",
    "plotCorrelationMatrix(corrMatrix2010, '2010', 2)\n",
    "plotCorrelationMatrix(corrMatrix2005, '2005', 3)\n",
    "plotCorrelationMatrix(corrMatrix2000, '2000', 4)\n",
    "\n"
   ]
  },
  {
   "cell_type": "code",
   "execution_count": null,
   "metadata": {},
   "outputs": [],
   "source": []
  }
 ],
 "metadata": {
  "kernelspec": {
   "display_name": "Python 3",
   "language": "python",
   "name": "python3"
  },
  "language_info": {
   "codemirror_mode": {
    "name": "ipython",
    "version": 3
   },
   "file_extension": ".py",
   "mimetype": "text/x-python",
   "name": "python",
   "nbconvert_exporter": "python",
   "pygments_lexer": "ipython3",
   "version": "3.8.2"
  }
 },
 "nbformat": 4,
 "nbformat_minor": 2
}
