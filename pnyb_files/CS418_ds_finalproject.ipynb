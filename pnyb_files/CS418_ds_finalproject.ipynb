{
 "cells": [
  {
   "cell_type": "code",
   "execution_count": 20,
   "metadata": {},
   "outputs": [],
   "source": [
    "from IPython.core.interactiveshell import InteractiveShell\n",
    "InteractiveShell.ast_node_interactivity = \"all\"\n",
    "\n",
    "import numpy as np \n",
    "import pandas as pd\n",
    "from matplotlib import pyplot as plt"
   ]
  },
  {
   "cell_type": "markdown",
   "metadata": {},
   "source": [
    "## CS418 Data Science Final Project\n",
    "\n",
    "### Names: Abhi Shah, Brian De Villa,  Katherine Misyutina, Matthew Jankowski\n",
    "\n",
    "#### Dataset Topic:\n",
    "Child Mortality for children under the age of 5. Compare different countries and diseases. Show differences between devloped and devloping countries.\n",
    "\n",
    "#### Criteria:\n",
    "In early April (exact date to be announced) you must submit your progress report. Your progress report must contain the following:\n",
    "\n",
    "    1)An introduction part to your data:\n",
    "        * Data spec: describe your data. Include the format and any assumptions about your data, size of the dataset\n",
    "        * A link to your full data in downloadable form, you can keep your data on Google Drive, Box, DropBox, GitHub, or personal website\n",
    "        * A sample of your data ( n = 10 - 50)\n",
    "        * A report of your data collection process\n",
    "            * How did you collect your data\n",
    "            * How did you clean your data\n",
    "            * Mention any difficulties you faced in the beginning steps\n",
    "2) A summary of challenges and observations you have made so far. \n",
    "A brief mention of your next steps and what you plan to do with your data as you move into the analysis (If you are already in the analysis phase you can mention that as well)\n",
    "Group member duties\n",
    "\n",
    "\n",
    "\n"
   ]
  },
  {
   "cell_type": "markdown",
   "metadata": {},
   "source": [
    "<h1> Loading Cleaned Data </h2>"
   ]
  },
  {
   "cell_type": "code",
   "execution_count": 32,
   "metadata": {},
   "outputs": [],
   "source": [
    "dfPopulation = pd.read_csv('../datasets/Population/Clean_population.csv')\n",
    "dfAcute_Lower_Respiratory_infections = pd.read_csv('../datasets/CleanedDiseases/CleanedAcute_Lower_Respiratory_infections.csv')\n",
    "dfInjuries = pd.read_csv('../datasets/CleanedDiseases/CleanedInjuries.csv')\n",
    "dfMeasles_mortality = pd.read_csv('../datasets/CleanedDiseases/Cleanedmeasles_mortality.csv')\n",
    "dfPrematurity = pd.read_csv('../datasets/CleanedDiseases/CleanedPrematurity.csv')\n",
    "dfSepsis = pd.read_csv('../datasets/CleanedDiseases/CleanedSepsis.csv')\n"
   ]
  },
  {
   "cell_type": "markdown",
   "metadata": {},
   "source": [
    "<h1> Percent of Disease based on total population </h2>"
   ]
  },
  {
   "cell_type": "code",
   "execution_count": 33,
   "metadata": {},
   "outputs": [],
   "source": [
    "acute_lower_respiratory_infection_percentage = (dfAcute_Lower_Respiratory_infections.iloc[:, 1:5]/(dfPopulation.iloc[:,1:5] * 1000)) * 100\n",
    "injuries_percentage = (dfInjuries.iloc[:, 1:5]/(dfPopulation.iloc[:,1:5] * 1000)) * 100\n",
    "measles_mortality_percentage = (dfMeasles_mortality.iloc[:, 1:5]/(dfPopulation.iloc[:,1:5] * 1000)) * 100\n",
    "prematurity_percentage = (dfPrematurity.iloc[:, 1:5]/(dfPopulation.iloc[:,1:5] * 1000)) * 100\n",
    "sepsis_percentage = (dfSepsis.iloc[:, 1:5]/(dfPopulation.iloc[:, 1:5] * 1000)) * 100\n"
   ]
  },
  {
   "cell_type": "code",
   "execution_count": null,
   "metadata": {},
   "outputs": [],
   "source": []
  }
 ],
 "metadata": {
  "kernelspec": {
   "display_name": "Python 3.6.9 64-bit",
   "language": "python",
   "name": "python36964bit022cfb2a14ba440386cbf74590633f0a"
  },
  "language_info": {
   "codemirror_mode": {
    "name": "ipython",
    "version": 3
   },
   "file_extension": ".py",
   "mimetype": "text/x-python",
   "name": "python",
   "nbconvert_exporter": "python",
   "pygments_lexer": "ipython3",
   "version": "3.6.9-final"
  }
 },
 "nbformat": 4,
 "nbformat_minor": 2
}